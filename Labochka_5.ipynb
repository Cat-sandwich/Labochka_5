{
  "cells": [
    {
      "cell_type": "markdown",
      "metadata": {
        "colab_type": "text",
        "id": "view-in-github"
      },
      "source": [
        "<a href=\"https://colab.research.google.com/github/Cat-sandwich/Labochka_5/blob/main/Labochka_5.ipynb\" target=\"_parent\"><img src=\"https://colab.research.google.com/assets/colab-badge.svg\" alt=\"Open In Colab\"/></a>"
      ]
    },
    {
      "cell_type": "code",
      "execution_count": 99,
      "metadata": {},
      "outputs": [],
      "source": [
        "import main\n",
        "import torch\n",
        "import torch.nn as nn\n",
        "import torch.nn.functional as F\n",
        "from torch.autograd import Variable\n",
        "import torchvision\n",
        "import numpy as np\n",
        "import pandas as pd\n",
        "import matplotlib.pyplot as plt\n",
        "import re\n",
        "import os\n",
        "from pymystem3 import Mystem\n",
        "\n",
        "import nltk\n",
        "from nltk.tokenize import word_tokenize\n",
        "from nltk import PorterStemmer\n",
        "from nltk import WordNetLemmatizer\n",
        "from nltk.corpus import stopwords\n",
        "\n",
        "from sklearn.feature_extraction.text import CountVectorizer\n",
        "from sklearn.model_selection import train_test_split"
      ]
    },
    {
      "attachments": {},
      "cell_type": "markdown",
      "metadata": {},
      "source": [
        "# Пункт 1"
      ]
    },
    {
      "attachments": {},
      "cell_type": "markdown",
      "metadata": {},
      "source": [
        "Необходимо загрузить исходный набор данных и соответствующие метки классов."
      ]
    },
    {
      "cell_type": "code",
      "execution_count": 100,
      "metadata": {
        "colab": {
          "base_uri": "https://localhost:8080/",
          "height": 206
        },
        "id": "iAIOtjJCJdPj",
        "outputId": "e420e4be-bd69-414d-8dbe-6dab31c86e3e"
      },
      "outputs": [
        {
          "data": {
            "text/html": [
              "<div>\n",
              "<style scoped>\n",
              "    .dataframe tbody tr th:only-of-type {\n",
              "        vertical-align: middle;\n",
              "    }\n",
              "\n",
              "    .dataframe tbody tr th {\n",
              "        vertical-align: top;\n",
              "    }\n",
              "\n",
              "    .dataframe thead th {\n",
              "        text-align: right;\n",
              "    }\n",
              "</style>\n",
              "<table border=\"1\" class=\"dataframe\">\n",
              "  <thead>\n",
              "    <tr style=\"text-align: right;\">\n",
              "      <th></th>\n",
              "      <th>class_mark</th>\n",
              "      <th>text_review</th>\n",
              "    </tr>\n",
              "  </thead>\n",
              "  <tbody>\n",
              "    <tr>\n",
              "      <th>0</th>\n",
              "      <td>good</td>\n",
              "      <td>Зеленая миля\\n'Они помогли ему убить себя и та...</td>\n",
              "    </tr>\n",
              "    <tr>\n",
              "      <th>1</th>\n",
              "      <td>good</td>\n",
              "      <td>Зеленая миля\\n'Боже, иногда Зеленая миля так д...</td>\n",
              "    </tr>\n",
              "    <tr>\n",
              "      <th>2</th>\n",
              "      <td>good</td>\n",
              "      <td>Зеленая миля\\nОни помогли ему убить себя\\n\\n«О...</td>\n",
              "    </tr>\n",
              "    <tr>\n",
              "      <th>3</th>\n",
              "      <td>good</td>\n",
              "      <td>Зеленая миля\\n«Когда призовет Господь на свой ...</td>\n",
              "    </tr>\n",
              "    <tr>\n",
              "      <th>4</th>\n",
              "      <td>good</td>\n",
              "      <td>Зеленая миля\\nОбвиненный в страшном преступлен...</td>\n",
              "    </tr>\n",
              "  </tbody>\n",
              "</table>\n",
              "</div>"
            ],
            "text/plain": [
              "  class_mark                                        text_review\n",
              "0       good  Зеленая миля\\n'Они помогли ему убить себя и та...\n",
              "1       good  Зеленая миля\\n'Боже, иногда Зеленая миля так д...\n",
              "2       good  Зеленая миля\\nОни помогли ему убить себя\\n\\n«О...\n",
              "3       good  Зеленая миля\\n«Когда призовет Господь на свой ...\n",
              "4       good  Зеленая миля\\nОбвиненный в страшном преступлен..."
            ]
          },
          "execution_count": 100,
          "metadata": {},
          "output_type": "execute_result"
        }
      ],
      "source": [
        "data = pd.read_csv('dataframe.csv')\n",
        "data.head()"
      ]
    },
    {
      "cell_type": "code",
      "execution_count": 101,
      "metadata": {
        "id": "-Vw1f_226O9w"
      },
      "outputs": [],
      "source": [
        "remove_non_alphabets =lambda x: re.sub(r'[^а-яА-Я]',' ',x)"
      ]
    },
    {
      "cell_type": "code",
      "execution_count": 102,
      "metadata": {
        "id": "fWl5pIQG6hmb"
      },
      "outputs": [],
      "source": [
        "tokenize = lambda x: word_tokenize(x, language=\"russian\")"
      ]
    },
    {
      "cell_type": "code",
      "execution_count": 103,
      "metadata": {
        "id": "5v5enVum6nA-"
      },
      "outputs": [],
      "source": [
        "ps = PorterStemmer()\n",
        "stem = lambda w: [ ps.stem(x) for x in w ]"
      ]
    },
    {
      "cell_type": "code",
      "execution_count": 104,
      "metadata": {
        "id": "lgOk_nZ7674s"
      },
      "outputs": [],
      "source": [
        "lemmatizer = WordNetLemmatizer()\n",
        "leammtizer = lambda x: [ lemmatizer.lemmatize(word) for word in x ]"
      ]
    },
    {
      "cell_type": "code",
      "execution_count": 105,
      "metadata": {
        "colab": {
          "base_uri": "https://localhost:8080/"
        },
        "id": "8QwBp2Cz7eQd",
        "outputId": "6d08f06f-9e0f-4b46-ca93-1c949d9983de"
      },
      "outputs": [
        {
          "name": "stderr",
          "output_type": "stream",
          "text": [
            "[nltk_data] Downloading package wordnet to\n",
            "[nltk_data]     C:\\Users\\nika\\AppData\\Roaming\\nltk_data...\n",
            "[nltk_data]   Package wordnet is already up-to-date!\n",
            "[nltk_data] Downloading package punkt to\n",
            "[nltk_data]     C:\\Users\\nika\\AppData\\Roaming\\nltk_data...\n",
            "[nltk_data]   Package punkt is already up-to-date!\n",
            "[nltk_data] Downloading package omw-1.4 to\n",
            "[nltk_data]     C:\\Users\\nika\\AppData\\Roaming\\nltk_data...\n",
            "[nltk_data]   Package omw-1.4 is already up-to-date!\n",
            "[nltk_data] Downloading package stopwords to\n",
            "[nltk_data]     C:\\Users\\nika\\AppData\\Roaming\\nltk_data...\n",
            "[nltk_data]   Package stopwords is already up-to-date!\n"
          ]
        },
        {
          "data": {
            "text/plain": [
              "True"
            ]
          },
          "execution_count": 105,
          "metadata": {},
          "output_type": "execute_result"
        }
      ],
      "source": [
        "nltk.download('wordnet')\n",
        "nltk.download('punkt')\n",
        "nltk.download('omw-1.4')\n",
        "nltk.download('stopwords')"
      ]
    },
    {
      "cell_type": "code",
      "execution_count": 106,
      "metadata": {},
      "outputs": [],
      "source": [
        "def Lemmatize(src: list):\n",
        "    ''' Лемматизирует переданный датасет\n",
        "    '''\n",
        "    text_nomalized = ' '.join(src).lower() \n",
        "\n",
        "    m = Mystem()\n",
        "    lemmas = m.lemmatize(text_nomalized)\n",
        "    \n",
        "    return lemmas"
      ]
    },
    {
      "cell_type": "code",
      "execution_count": 107,
      "metadata": {
        "colab": {
          "base_uri": "https://localhost:8080/",
          "height": 223
        },
        "id": "anS3I50V7AKf",
        "outputId": "cf618c18-959e-4462-bcac-b2335829b8fd"
      },
      "outputs": [
        {
          "name": "stdout",
          "output_type": "stream",
          "text": [
            "Processing : [====] : Completed"
          ]
        },
        {
          "data": {
            "text/html": [
              "<div>\n",
              "<style scoped>\n",
              "    .dataframe tbody tr th:only-of-type {\n",
              "        vertical-align: middle;\n",
              "    }\n",
              "\n",
              "    .dataframe tbody tr th {\n",
              "        vertical-align: top;\n",
              "    }\n",
              "\n",
              "    .dataframe thead th {\n",
              "        text-align: right;\n",
              "    }\n",
              "</style>\n",
              "<table border=\"1\" class=\"dataframe\">\n",
              "  <thead>\n",
              "    <tr style=\"text-align: right;\">\n",
              "      <th></th>\n",
              "      <th>class_mark</th>\n",
              "      <th>text_review</th>\n",
              "    </tr>\n",
              "  </thead>\n",
              "  <tbody>\n",
              "    <tr>\n",
              "      <th>0</th>\n",
              "      <td>good</td>\n",
              "      <td>зеленая миля они помогли ему убить себя и так ...</td>\n",
              "    </tr>\n",
              "    <tr>\n",
              "      <th>1</th>\n",
              "      <td>good</td>\n",
              "      <td>зеленая миля боже иногда зеленая миля так длин...</td>\n",
              "    </tr>\n",
              "    <tr>\n",
              "      <th>2</th>\n",
              "      <td>good</td>\n",
              "      <td>зеленая миля они помогли ему убить себя они по...</td>\n",
              "    </tr>\n",
              "    <tr>\n",
              "      <th>3</th>\n",
              "      <td>good</td>\n",
              "      <td>зеленая миля когда призовет господь на свой су...</td>\n",
              "    </tr>\n",
              "    <tr>\n",
              "      <th>4</th>\n",
              "      <td>good</td>\n",
              "      <td>зеленая миля обвиненный в страшном преступлени...</td>\n",
              "    </tr>\n",
              "  </tbody>\n",
              "</table>\n",
              "</div>"
            ],
            "text/plain": [
              "  class_mark                                        text_review\n",
              "0       good  зеленая миля они помогли ему убить себя и так ...\n",
              "1       good  зеленая миля боже иногда зеленая миля так длин...\n",
              "2       good  зеленая миля они помогли ему убить себя они по...\n",
              "3       good  зеленая миля когда призовет господь на свой су...\n",
              "4       good  зеленая миля обвиненный в страшном преступлени..."
            ]
          },
          "execution_count": 107,
          "metadata": {},
          "output_type": "execute_result"
        }
      ],
      "source": [
        "print('Processing : [=', end='')\n",
        "\n",
        "data['text_review'] = data['text_review'].apply(remove_non_alphabets)\n",
        "print('=', end='')\n",
        "data['text_review'] = data['text_review'].apply(tokenize) # [ word_tokenize(row) for row in data['email']]\n",
        "print('=', end='')\n",
        "data['text_review'] = data['text_review'].apply(stem)\n",
        "data['text_review'] = data['text_review'].apply(leammtizer)\n",
        "\n",
        "data['text_review'] = data['text_review'].apply(lambda x: ' '.join(x))\n",
        "print('=] : Completed', end='')\n",
        "data.head()\n"
      ]
    },
    {
      "cell_type": "code",
      "execution_count": 108,
      "metadata": {
        "id": "_DR1qEhkPAOk"
      },
      "outputs": [],
      "source": [
        "#max_words = 10000\n",
        "bad_words = stopwords.words(\"russian\")\n",
        "cv = CountVectorizer(stop_words=bad_words)\n",
        "sparse_matrix = cv.fit_transform(data['text_review']).toarray()"
      ]
    },
    {
      "cell_type": "code",
      "execution_count": 114,
      "metadata": {
        "colab": {
          "base_uri": "https://localhost:8080/",
          "height": 503
        },
        "id": "E9b0p58vPJpc",
        "outputId": "540ba4ee-43bc-4080-e0b1-25baafab930b"
      },
      "outputs": [],
      "source": [
        "x_train, x_test, y_train, y_test = train_test_split(sparse_matrix, np.array(data['class_mark']), test_size = 0.1, train_size = 0.8)"
      ]
    },
    {
      "cell_type": "code",
      "execution_count": 115,
      "metadata": {},
      "outputs": [],
      "source": [
        "class LogisticRegression(nn.Module):\n",
        "    def __init__(self):\n",
        "        super(LogisticRegression, self).__init__()\n",
        "        self.linear1 = nn.Linear(10000, 100)\n",
        "        self.linear2 = nn.Linear(100, 10)\n",
        "        self.linear3 = nn.Linear(10, 2)\n",
        "        \n",
        "    def forward(self, x):\n",
        "        x = F.relu(self.linear1(x))\n",
        "        x = F.relu(self.linear2(x))\n",
        "        x = self.linear3(x)\n",
        "        return x"
      ]
    },
    {
      "cell_type": "code",
      "execution_count": 111,
      "metadata": {},
      "outputs": [],
      "source": [
        "model = LogisticRegression()"
      ]
    },
    {
      "cell_type": "code",
      "execution_count": 112,
      "metadata": {},
      "outputs": [],
      "source": [
        "criterion = nn.CrossEntropyLoss()\n",
        "optimizer = torch.optim.Adam(params=model.parameters() , lr=0.01)"
      ]
    },
    {
      "cell_type": "code",
      "execution_count": 113,
      "metadata": {},
      "outputs": [
        {
          "ename": "TypeError",
          "evalue": "can't convert np.ndarray of type numpy.object_. The only supported types are: float64, float32, float16, complex64, complex128, int64, int32, int16, int8, uint8, and bool.",
          "output_type": "error",
          "traceback": [
            "\u001b[1;31m---------------------------------------------------------------------------\u001b[0m",
            "\u001b[1;31mTypeError\u001b[0m                                 Traceback (most recent call last)",
            "Cell \u001b[1;32mIn[113], line 2\u001b[0m\n\u001b[0;32m      1\u001b[0m x_train \u001b[39m=\u001b[39m Variable(torch\u001b[39m.\u001b[39mfrom_numpy(x_train))\u001b[39m.\u001b[39mfloat()\n\u001b[1;32m----> 2\u001b[0m y_train \u001b[39m=\u001b[39m Variable(torch\u001b[39m.\u001b[39;49mfrom_numpy(y_train))\u001b[39m.\u001b[39mlong()\n",
            "\u001b[1;31mTypeError\u001b[0m: can't convert np.ndarray of type numpy.object_. The only supported types are: float64, float32, float16, complex64, complex128, int64, int32, int16, int8, uint8, and bool."
          ]
        }
      ],
      "source": [
        "x_train = Variable(torch.from_numpy(x_train)).float()\n",
        "y_train = Variable(torch.from_numpy(y_train)).long()"
      ]
    }
  ],
  "metadata": {
    "colab": {
      "authorship_tag": "ABX9TyNk+tTmF+crEKDl3ZlBW0C0",
      "include_colab_link": true,
      "mount_file_id": "1ALd_PKqGWOmvPmF6h9Db8RpNujgKJM-A",
      "provenance": []
    },
    "kernelspec": {
      "display_name": "lab_5",
      "language": "python",
      "name": "python3"
    },
    "language_info": {
      "codemirror_mode": {
        "name": "ipython",
        "version": 3
      },
      "file_extension": ".py",
      "mimetype": "text/x-python",
      "name": "python",
      "nbconvert_exporter": "python",
      "pygments_lexer": "ipython3",
      "version": "3.10.7"
    },
    "vscode": {
      "interpreter": {
        "hash": "8ee731ccd5090c33445b623ad563d1451af022e2521800b2f0c35fe3a49832ba"
      }
    }
  },
  "nbformat": 4,
  "nbformat_minor": 0
}
